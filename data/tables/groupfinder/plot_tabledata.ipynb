{
 "cells": [
  {
   "cell_type": "code",
   "execution_count": 2,
   "metadata": {
    "collapsed": true
   },
   "outputs": [],
   "source": [
    "import os\n",
    "import numpy as np\n",
    "from astropy.table import Table, vstack\n",
    "from matplotlib import pyplot as plt\n",
    "from matplotlib import colors as mcolors\n",
    "from random import shuffle\n",
    "import matplotlib as mpl\n",
    "import shutil"
   ]
  },
  {
   "cell_type": "code",
   "execution_count": 12,
   "metadata": {
    "collapsed": true
   },
   "outputs": [],
   "source": [
    "rotation = '1'"
   ]
  },
  {
   "cell_type": "code",
   "execution_count": 15,
   "metadata": {
    "collapsed": false
   },
   "outputs": [],
   "source": [
    "def plot_full_halo(_halo, _satids=[], _xbox_min=2.0, _d_cut=75):\n",
    "    \n",
    "    plot_dir = '../../plots/' \n",
    "    fig = plt.figure(figsize=(20, 20))\n",
    "    ax1 = fig.add_subplot(111, projection='polar')\n",
    "    #ax1.set_title(_halo + '\\n' + fig_title, fontsize=25)\n",
    "    table_dir = '../../../../../skysurvey/tables/merged_tables'\n",
    "    table_fh = os.path.join(table_dir, _halo + '.hdf5')\n",
    "    _P_table = Table.read(table_fh, format='hdf5', path='data')\n",
    "    _P_table.remove_rows(np.nonzero(_P_table['Xbox']>=_xbox_min))\n",
    "    t_sats = np.unique(_P_table['satids']).tolist()\n",
    "    print 'list of all satids', t_sats\n",
    "    for _satid in t_sats:\n",
    "        if not _satid in _satids:\n",
    "            #print 'removing', _satid\n",
    "            _P_table.remove_rows(np.nonzero(_P_table['satids'] == _satid))\n",
    "\n",
    "    _P_table['Rads'].name = 'Satid'\n",
    "    print len(_P_table)\n",
    "    ax1.scatter(_P_table['Phi'], _P_table['Satid'], s=1, alpha=.025, color='k')\n",
    "    ax1.set_thetagrids(np.linspace(0.0, 360.0, 32)[:-1])\n",
    "    ax1.set_theta_direction(-1)\n",
    "    ax1.set_theta_zero_location(\"N\")\n",
    "    ax1.set_ylim([0, 180])\n",
    "    return fig, ax1\n",
    "\n",
    "_badwords = ['brown', 'light', 'grey', 'gray', 'white', 'ivory', 'moccasin', 'dark', 'thistle',\n",
    "             'beige', 'yellow', 'lime', 'gold', 'salmon', 'khaki', 'hot', 'pink' , 'violet',\n",
    "             'pale', 'olive', 'pink', 'rose', 'silver', 'peach', 'alice', 'chartreuse', 'black',\n",
    "             'sea', 'seashell', 'linen', 'coral', 'fuchsia', 'sky', 'tan', 'aqua', 'lavender', \n",
    "             'snow', 'lemon', 'old', 'mint', 'cream', 'bisque', 'wheat', 'blanchedalmond','medium', 'lawn',\n",
    "             'papaya', 'white', 'powder', 'lightcyan', 'slateblue', 'palevioletred', 'azure', 'honeydew', 'corn', 'gains']\n",
    "\n",
    "_badwords *= 10\n",
    "_colors = mcolors.cnames.keys()\n",
    "remove = []\n",
    "for bclr in _badwords:\n",
    "    for clr in _colors:\n",
    "        for i in range(len(clr) + 1):\n",
    "            if bclr in clr[:i]:\n",
    "                remove.append(clr)\n",
    "_colors = [clr for clr in _colors if not clr in remove]"
   ]
  },
  {
   "cell_type": "code",
   "execution_count": 16,
   "metadata": {
    "collapsed": false
   },
   "outputs": [
    {
     "name": "stdout",
     "output_type": "stream",
     "text": [
      "radius   r0    r1   halo  xbox_cut _xbox_fixed  _xbox_mu ... sat_purity domsat domsat_mass Log10(n_stars) n_boxes rank\n",
      "------ ----- ------ ---- --------- ----------- --------- ... ---------- ------ ----------- -------------- ------- ----\n",
      "    24  22.8   25.2    2  0.146946         5.0  0.146946 ...   0.197964     40       8.833        5.02762     148    0\n",
      "    48  45.6   50.4    2  0.436856         5.0  0.436856 ...   0.185209     34       8.323        4.41435     294    0\n",
      "    48  45.6   50.4    2  0.436856         5.0  0.436856 ...   0.161648     39       8.277        3.20222      22    0\n",
      "    72  68.4   75.6    2   1.01052         5.0   1.01052 ...   0.212859     19       7.194        2.57864      21    0\n",
      "    96  91.2  100.8    2    1.2296         5.0    1.2296 ...   0.790679     19       7.194        2.60097      29    0\n",
      "    96  91.2  100.8    2    1.2296         5.0    1.2296 ...   0.872091     20       7.405        3.99874     215    0\n",
      "    96  91.2  100.8    2    1.2296         5.0    1.2296 ...   0.869859     11       7.313        3.84248     257    0\n",
      "    24  22.8   25.2    5  0.198669         5.0  0.198669 ...   0.431376    142       9.184        4.66995      85    0\n",
      "    48  45.6   50.4    5  0.477756         5.0  0.477756 ...   0.680407    134       7.919        3.63033      61    0\n",
      "    48  45.6   50.4    5  0.477756         5.0  0.477756 ...    0.24236    142       9.184        4.31201     253    0\n",
      "   ...   ...    ...  ...       ...         ...       ... ...        ...    ...         ...            ...     ...  ...\n",
      "    33 31.35  34.65    2  0.221854         5.0  0.221854 ...   0.175866     25       8.601        4.87287     211    9\n",
      "    57 54.15  59.85    2  0.593418         5.0  0.593418 ...   0.273634     34       8.323        4.25249     334    9\n",
      "    81 76.95  85.05    2   1.25466         5.0   1.25466 ...   0.621251     20       7.405        3.27462     108    9\n",
      "   105 99.75 110.25    2   1.84647         5.0   1.84647 ...     0.4194     20       7.405        3.35218     190    9\n",
      "   105 99.75 110.25    2   1.84647         5.0   1.84647 ...   0.640156     11       7.313        3.17231     165    9\n",
      "     9   8.0   10.0    5 0.0773245         5.0 0.0773245 ...   0.654119    142       9.184        5.07695      28    9\n",
      "    33 31.35  34.65    5  0.294931         5.0  0.294931 ...   0.267513    142       9.184        4.54747     163    9\n",
      "    57 54.15  59.85    5  0.639378         5.0  0.639378 ...   0.246914    142       9.184        4.17889     315    9\n",
      "    81 76.95  85.05    5   1.24653         5.0   1.24653 ...   0.303756    122       8.052        3.68717     270    9\n",
      "   105 99.75 110.25    5   2.23083         5.0   2.23083 ...   0.651139    116       6.453        3.10619     146    9\n",
      "     9   8.0   10.0    7  0.065325         5.0  0.065325 ...   0.328905    277        8.88        5.16144      33    9\n",
      "Length = 356 rows\n"
     ]
    }
   ],
   "source": [
    "table = None\n",
    "for t_fh in [fname for fname in os.listdir('./mpi') if fname.endswith('.hdf5')]:\n",
    "    _table_dir = os.path.join(os.path.abspath(os.path.curdir), 'mpi')\n",
    "    _table_fh = os.path.join(_table_dir, t_fh)\n",
    "    if not table:\n",
    "        table = Table.read(_table_fh, format='hdf5', path='data')\n",
    "        #table.keep_columns(plots + ['radius'])\n",
    "    else:\n",
    "        new_section = Table.read(_table_fh, format='hdf5', path='data')\n",
    "        #new_section.keep_columns(plots + ['radius'])\n",
    "        table = vstack([table, new_section], metadata_conflicts='silent')\n",
    "\n",
    "table.pprint(max_width=120)"
   ]
  },
  {
   "cell_type": "code",
   "execution_count": null,
   "metadata": {
    "collapsed": false
   },
   "outputs": [],
   "source": [
    "full_table = vstack([full_table, table])\n",
    "full_table.write('./full_table.hdf5', path='data', overwrite=True, append=True)\n",
    "full_table.pprint(max_width=130)"
   ]
  },
  {
   "cell_type": "code",
   "execution_count": null,
   "metadata": {
    "collapsed": false
   },
   "outputs": [],
   "source": []
  },
  {
   "cell_type": "code",
   "execution_count": null,
   "metadata": {
    "collapsed": false
   },
   "outputs": [],
   "source": [
    "fig = plt.figure()#figsize=(5, 5))\n",
    "ax = fig.add_subplot(111, frameon=False)\n",
    "ax.axis('off')\n",
    "for i, clr in enumerate(_colors):\n",
    "    ax.bar(0, 0, width=0, color=clr, label=str(i) + ' ' + clr)\n",
    "del ax\n",
    "lg = plt.legend(loc=2, ncol=4, fontsize='xx-large')\n",
    "plt.show()"
   ]
  },
  {
   "cell_type": "code",
   "execution_count": 17,
   "metadata": {
    "collapsed": false
   },
   "outputs": [
    {
     "name": "stdout",
     "output_type": "stream",
     "text": [
      "2\n",
      "table domsat\n",
      "------\n",
      "    11\n",
      "    19\n",
      "    20\n",
      "    24\n",
      "    25\n",
      "    31\n",
      "    34\n",
      "    36\n",
      "    39\n",
      "    40\n",
      "list of dom satids [11, 19, 20, 24, 25, 31, 34, 36, 39, 40]\n",
      "list of all satids [11, 13, 17, 19, 20, 21, 22, 23, 24, 25, 26, 27, 28, 31, 32, 33, 34, 35, 36, 37, 38, 39, 40, 41, 42, 43, 44, 45, 46, 47, 48, 49, 50, 51, 52, 53, 54, 55, 56, 57, 58, 59, 60, 61, 62, 63, 64, 65, 66, 67, 68, 69, 70, 71, 72, 73, 74, 75, 76, 77, 78, 79, 80, 81, 82, 83, 84, 85, 86, 87, 88, 89, 90, 91, 92, 93, 94, 95, 96, 97, 98, 99, 100, 101, 102, 103, 104, 105, 107, 108, 109, 111, 112]\n",
      "4612584\n",
      "5\n",
      "table domsat\n",
      "------\n",
      "   116\n",
      "   122\n",
      "   133\n",
      "   134\n",
      "   135\n",
      "   142\n",
      "list of dom satids [116, 122, 133, 134, 135, 142]\n",
      "list of all satids [116, 118, 119, 120, 121, 122, 123, 124, 125, 126, 127, 129, 130, 132, 133, 134, 135, 136, 137, 138, 139, 140, 141, 142, 143, 144, 145, 146, 147, 148, 149, 150, 151, 152, 153, 154, 155, 156, 157, 158, 159, 160, 161, 162, 163, 164, 165, 166, 167, 168, 169, 170, 171, 172, 173, 174, 175, 176, 177, 178, 179, 180, 181, 182, 183, 184, 185, 186, 187, 188, 189, 190, 191, 192, 193, 194, 195, 196, 197, 198, 199, 200, 201, 202, 203, 204, 205, 206, 207, 208, 209, 210, 211, 212, 213]\n",
      "3646950\n",
      "7\n",
      "table domsat\n",
      "------\n",
      "   244\n",
      "   254\n",
      "   277\n",
      "list of dom satids [244, 254, 277]\n",
      "list of all satids [225, 226, 227, 229, 230, 232, 234, 236, 237, 238, 240, 241, 242, 243, 244, 245, 246, 247, 248, 249, 250, 252, 253, 254, 255, 256, 257, 258, 259, 260, 261, 262, 263, 264, 265, 266, 267, 268, 269, 270, 271, 272, 273, 274, 275, 276, 277, 278, 279, 280, 281, 282, 283, 284, 285, 286, 287, 288, 289, 290, 291, 292, 293, 294, 295, 296, 297, 298, 299, 300, 301, 302, 303, 304, 305, 306, 307, 308, 309, 310, 311, 312, 313, 314, 315, 317, 318]\n",
      "1729735\n",
      "done\n"
     ]
    }
   ],
   "source": [
    "\n",
    "plots = ['xbox_cut', 'Log10(mu)',\n",
    "         '_xbox_fixed', '_xbox_mu',\n",
    "         'xbox_min',  'xbox_max', \n",
    "         'xbox_mean', 'Log10(n_stars)',\n",
    "         'deg0', 'deg1', \n",
    "         'extent', 'arc_len', \n",
    "         'sat_purity', 'domsat_mass', \n",
    "         'n_segments', 'n_boxes', \n",
    "         'rank', 'domsat']\n",
    "\n",
    "plots2 = ['xbox_cut', 'Log10(mu)', \n",
    "         'xbox_min',  'xbox_max', \n",
    "         'xbox_mean', 'Log10(n_stars)',\n",
    "         'deg0', 'deg1', \n",
    "         'extent','n_segments', \n",
    "         'sat_purity','domsat',\n",
    "          'n_boxes']\n",
    "\n",
    "r0 = str(table.meta['r_start'])\n",
    "r1 = str(table.meta['r_stop'])\n",
    "r_stp = str(table.meta['r_step'])\n",
    "r_scl = str(table.meta['r_scale'])\n",
    "d0 = str(table.meta['deg_0'])[:5]\n",
    "d1 = str(table.meta['deg_1'])[:5]\n",
    "\n",
    "min_nseg = str(table.meta['min_seg_size'])\n",
    "fig_title = 'r0: ' + r0  +  ' - r1: ' + r1 +  ' - r_stp: ' + r_stp +  ' - r_scl: ' + r_scl +  ' - d0: ' + d0 +  ' - d1: ' +d1 + ' - min_nseg: ' + min_nseg \n",
    "\n",
    "\n",
    "#table = Table.read('./main.hdf5', format='hdf5', path='data')\n",
    "fig = plt.figure(figsize=(20, 30))\n",
    "fig.suptitle(fig_title +'\\n X axis = radius Kpc', fontsize=20)\n",
    "nplots = len(plots)\n",
    "x_axis = table['radius']\n",
    "xmin = x_axis.min() - 10\n",
    "xmax = x_axis.max() + 10\n",
    "for plot_id, column in enumerate(plots):\n",
    "    ax = fig.add_subplot((len(plots) // 2) + 1, 2, plot_id + 1)\n",
    "    ax.set_ylabel(column, fontsize=20)\n",
    "    y_axis = table[column]\n",
    "    if column == 'extent':\n",
    "        y_axis = np.rad2deg(y_axis)\n",
    "    ax.scatter(x_axis, y_axis, s=10, c=table['halo'])\n",
    "    ax.set_xlim([xmin, xmax])\n",
    "    ax.tick_params(labelsize=16)\n",
    "    ax.axes.grid()\n",
    "fig.savefig('../../plots/general_rad' + rotation + '.png')\n",
    "plt.close()\n",
    "\n",
    "fig = plt.figure(figsize=(20, 25))\n",
    "fig.suptitle(fig_title +'\\n X axis = dom_sat mass Msun', fontsize=20)\n",
    "nplots = len(plots)\n",
    "x_axis = table['domsat_mass']\n",
    "xmin = x_axis.min() - .5\n",
    "xmax = x_axis.max() + .5\n",
    "for plot_id, column in enumerate(plots2):\n",
    "    ax = fig.add_subplot((len(plots) // 2) + 1, 2, plot_id + 1)\n",
    "    ax.set_ylabel(column, fontsize=20)\n",
    "    \n",
    "    ax.scatter(x_axis, table[column], s=10, c=table['halo'])\n",
    "    ax.set_xlim([xmin, xmax])\n",
    "    ax.tick_params(labelsize=16)\n",
    "    ax.axes.grid()\n",
    "fig.savefig('../../plots/' + rotation + '_general_mass.png')\n",
    "plt.close()\n",
    "\n",
    "halo_nums = [2, 5, 7, 8, 9, 10, 12, 14, 15, 17, 20]\n",
    "radii = [50, 110, 140]\n",
    "offset = 5\n",
    "\n",
    "lblsz = 20\n",
    "\n",
    "fig = plt.figure(figsize=(20, 14))\n",
    "fig.suptitle(fig_title, fontsize=20)\n",
    "\n",
    "ax1 = fig.add_subplot(211)\n",
    "ax1.set_xlim([-1, len(halo_nums)])\n",
    "#ax1.set_xlabel('halo', fontsize=25)\n",
    "ax1.set_xticks(range(len(halo_nums)))\n",
    "ax1.set_xticklabels([str(i) for i in halo_nums])\n",
    "ax1.set_ylim([0, 50])\n",
    "ax1.set_ylabel('N features\\n ', fontsize=25)\n",
    "ax1.tick_params(labelsize=lblsz)\n",
    "\n",
    "\n",
    "ax2 = fig.add_subplot(212)\n",
    "ax2.set_xlim(ax1.get_xlim())\n",
    "ax2.set_xlabel('halo', fontsize=25)\n",
    "ax2.set_ylim([0.0, 9.0])\n",
    "ax2.set_xticks(ax1.get_xticks())\n",
    "ax2.set_xticklabels(ax1.get_xticklabels())\n",
    "ax2.set_ylabel('log10 dom_sat mass\\n ', fontsize=25)\n",
    "ax2.tick_params(labelsize=lblsz)\n",
    "\n",
    "for _i, r in enumerate(radii):\n",
    "    lbl = False\n",
    "    r0 = r - offset\n",
    "    r1 = r + offset\n",
    "    for hlo in halo_nums:\n",
    "        if not lbl:\n",
    "            lbl = str(r0) + ' - ' + str(r1) + ' Kpc'\n",
    "        else:\n",
    "            lbl = '_l'\n",
    "        lims = np.nonzero(\n",
    "            np.logical_and(\n",
    "                np.logical_and(\n",
    "                    table['radius'] >= r0,\n",
    "                    table['radius'] <= r1),\n",
    "                table['halo'] == hlo))\n",
    "        x0 = halo_nums.index(hlo)\n",
    "        x = (x0 + (0.15 * _i)) - 0.15\n",
    "        ax1.vlines(x, 0, len(lims[0]), colors=_colors[_i], alpha=1, linewidth=5, label=lbl)\n",
    "        \n",
    "        yval = table['domsat_mass'][lims].mean()\n",
    "        ax2.vlines(x, 0, yval, colors=_colors[_i], alpha=1, linewidth=5, label=lbl)\n",
    "        \n",
    "\n",
    "ax1.axes.legend(fontsize='xx-large')\n",
    "ax2.axes.legend(fontsize='xx-large')\n",
    "fig.savefig('../../plots/' + rotation + '_all11halos.png')\n",
    "plt.close()\n",
    "\n",
    "fig = plt.figure(figsize=(20, 7))\n",
    "fig.suptitle(fig_title, fontsize=20)\n",
    "ax = fig.add_subplot(111)\n",
    "\n",
    "for r in np.unique(table['radius']):\n",
    "    \n",
    "    \n",
    "    lims = len(table[table['radius']==r])\n",
    "    \n",
    "    ax.vlines(r, 0, lims, alpha=.5, linewidth=5, label=lbl)\n",
    "\n",
    "#ax.set_xlim([0, 200])\n",
    "ax.set_xlabel('\\nRadius Kpc', fontsize=25)\n",
    "r_strt = int(table.meta['r_start']) - 1\n",
    "r_stop = int(table.meta['r_stop'])\n",
    "majorrange = range(r_strt, r_stop, 20)\n",
    "minorrange = [i for i in range(r_strt, r_stop, 5) if not i in majorrange]\n",
    "ax.set_xticks(majorrange)\n",
    "ax.set_xticks(minorrange, minor=True)\n",
    "ax.set_xticklabels([str(i) for i in majorrange], rotation=90)\n",
    "ax.set_xticklabels([str(i) + '-' for i in minorrange], minor=True, rotation=90)\n",
    "\n",
    "ax.set_ylim([0, 25])\n",
    "ax.set_ylabel('N features', fontsize=25)\n",
    "\n",
    "\n",
    "ax.axes.tick_params(labelsize=20)\n",
    "ax.axes.tick_params(labelsize=13, which='minor') \n",
    "\n",
    "\n",
    "fig.savefig('../../plots/' + rotation + '_featuresperKpc.png')\n",
    "plt.close()\n",
    "\n",
    "hlos = np.unique(table['halo'])\n",
    "hlos.sort()\n",
    "\n",
    "for halo in hlos:\n",
    "    print halo\n",
    "\n",
    "    strhalo = str(halo)\n",
    "    if len(strhalo) < 2:\n",
    "        strhalo = '0' + strhalo\n",
    "    shalo = 'halo' + strhalo\n",
    "    fh = os.path.join('../../plots/' + shalo + '_1.png')\n",
    "    \n",
    "    \n",
    "    \n",
    "    this_halo = table[table['halo'] == halo]\n",
    "\n",
    "    satids = np.unique(this_halo['domsat'])\n",
    "    print 'table', satids\n",
    "    satids.sort()\n",
    "    satids = satids.tolist()\n",
    "    print 'list of dom satids', satids\n",
    "    satclrs = mpl.cm.get_cmap('Paired', lut=len(satids))\n",
    "    \n",
    "    fig, ax = plot_full_halo(shalo, _satids=satids)\n",
    "    \n",
    "      \n",
    "    this_halo.sort('radius')\n",
    "    mu_line = np.unique(this_halo[this_halo['_xbox_mu'] > this_halo['_xbox_fixed']]['radius'])\n",
    "    mu_line.sort()\n",
    "    if not len(mu_line):\n",
    "        mu_line = [0]\n",
    "    \n",
    "    known_sats = []\n",
    "    for row in this_halo:\n",
    "        \n",
    "        if not len(known_sats) or not row['domsat'] in known_sats:\n",
    "            known_sats.append(row['domsat'])\n",
    "            lbl = str(known_sats[-1])\n",
    "        else:\n",
    "            lbl = '_' + lbl\n",
    "        \n",
    "        sat =  row['domsat']\n",
    "        \n",
    "        theta0 = row['deg0']\n",
    "        r_extent = row['r1'] - row['r0']\n",
    "        angular_extent = row['extent']\n",
    "        r_start = row['r0']\n",
    "        dom_satid = row['domsat']\n",
    "\n",
    "        theta0 += (0.5 * angular_extent)\n",
    "\n",
    "        ax.bar(theta0, r_extent, angular_extent, r_start, color=satclrs(satids.index(sat)), alpha=.15)\n",
    "\n",
    "        ax.scatter(0, 0, marker='s', label=lbl, color=satclrs(satids.index(sat)), alpha=1)\n",
    "        ax.plot(np.linspace(0, 2 * np.pi, 100), np.ones(100) * min(mu_line), linewidth=5, alpha=.01, color='r', linestyle='dashed')\n",
    "    \n",
    "    #leg = ax.axes.legend(fontsize='xx-large', markerscale =5)\n",
    "    fig.savefig(fh)#, dpi=400)\n",
    "    plt.close()\n",
    "print 'done'"
   ]
  },
  {
   "cell_type": "code",
   "execution_count": 21,
   "metadata": {
    "collapsed": false
   },
   "outputs": [
    {
     "data": {
      "text/html": [
       "&lt;Column name=&apos;domsat&apos; dtype=&apos;int32&apos; length=10&gt;\n",
       "<table>\n",
       "<tr><td>11</td></tr>\n",
       "<tr><td>19</td></tr>\n",
       "<tr><td>20</td></tr>\n",
       "<tr><td>24</td></tr>\n",
       "<tr><td>25</td></tr>\n",
       "<tr><td>31</td></tr>\n",
       "<tr><td>34</td></tr>\n",
       "<tr><td>36</td></tr>\n",
       "<tr><td>39</td></tr>\n",
       "<tr><td>40</td></tr>\n",
       "</table>"
      ],
      "text/plain": [
       "<Column name='domsat' dtype='int32' length=10>\n",
       "11\n",
       "19\n",
       "20\n",
       "24\n",
       "25\n",
       "31\n",
       "34\n",
       "36\n",
       "39\n",
       "40"
      ]
     },
     "execution_count": 21,
     "metadata": {},
     "output_type": "execute_result"
    }
   ],
   "source": [
    "np.unique(table[table['halo'] == 2]['domsat'])"
   ]
  },
  {
   "cell_type": "code",
   "execution_count": null,
   "metadata": {
    "collapsed": false
   },
   "outputs": [],
   "source": [
    "for fh in os.listdir('../../plots'):\n",
    "    if os.path.isdir(os.path.join(os.path.abspath('../../plots'),fh)):\n",
    "        continue\n",
    "    if fh.startswith('.'):\n",
    "        continue\n",
    "    rnum = fh.split('_')[0]\n",
    "\n",
    "    newfh, ext = fh[2:].split('.')\n",
    "\n",
    "    newfh += rnum + os.path.extsep + ext\n",
    "    dirpth = os.path.abspath('../../plots')\n",
    "    src = os.path.join(dirpth, fh)\n",
    "    dest = os.path.join(dirpth, newfh)\n",
    "    shutil.move(src, dest)"
   ]
  },
  {
   "cell_type": "code",
   "execution_count": null,
   "metadata": {
    "collapsed": false
   },
   "outputs": [],
   "source": [
    "_halo = 'halo10'\n",
    "table_dir = '../../../../../skysurvey/tables/merged_tables/'\n",
    "table_fh = os.path.join(table_dir, _halo + '.hdf5')\n",
    "table = Table.read(table_fh, format='hdf5', path='data')[::100]"
   ]
  },
  {
   "cell_type": "code",
   "execution_count": null,
   "metadata": {
    "collapsed": false
   },
   "outputs": [],
   "source": [
    "plt.figure(figsize=(20,5))\n",
    "plt.scatter(table['Rads'], table['Xbox'], s=1, cmap=plt.cm.Paired, c=table['Phi'])\n",
    "plt.show()"
   ]
  },
  {
   "cell_type": "code",
   "execution_count": null,
   "metadata": {
    "collapsed": false
   },
   "outputs": [],
   "source": [
    "fig = plt.figure(figsize=(20,20))\n",
    "ax = fig.add_subplot(111, projection='polar')\n",
    "ax.scatter(table['Phi'], table['Rads'], s=1, cmap=plt.cm.Paired, c=table['Xbox'], vmin=0, vmax =5)\n",
    "ax.set_ylim([0,200])\n",
    "#plt.colorbar()\n",
    "plt.show()"
   ]
  },
  {
   "cell_type": "code",
   "execution_count": 28,
   "metadata": {
    "collapsed": false
   },
   "outputs": [],
   "source": [
    "_colors *= 1000\n",
    "table_dir = '../../../../../skysurvey/tables/merged_tables'\n",
    "\n",
    "for halo in [h.split('.')[0] for h in os.listdir(table_dir)]:\n",
    "    hnum = int(halo[-2:])\n",
    "    table_fh = os.path.join(table_dir, halo + '.hdf5')\n",
    "    _table = Table.read(table_fh, format='hdf5', path='data')\n",
    "    \n",
    "    fig = plt.figure(figsize=(20,20))\n",
    "    ax = fig.add_subplot(111, projection='polar')\n",
    "    _table = _table[np.nonzero(_table['Xbox']>=1.0)]\n",
    "    satids = np.unique(_table['satids'])\n",
    "    for satid in np.unique(table[table['halo'] == hnum]['domsat']):\n",
    "        lims = np.nonzero(_table['satids'] == satid)\n",
    "        ax.scatter(_table['Phi'][lims], _table['Rads'][lims], s=1, alpha=.025, color=_colors[satid])#, cmap=plt.cm.Paired, c=table['Xbox'], vmin=1, vmax =5)\n",
    "    ax.set_ylim([0,180])\n",
    "    fig.savefig('../../plots/' + halo + '_0.png')\n",
    "    plt.close(fig)"
   ]
  },
  {
   "cell_type": "code",
   "execution_count": 27,
   "metadata": {
    "collapsed": false
   },
   "outputs": [],
   "source": [
    "table = Table.read('./rotation_log.hdf5', format='hdf5', path='1')"
   ]
  },
  {
   "cell_type": "code",
   "execution_count": null,
   "metadata": {
    "collapsed": false
   },
   "outputs": [],
   "source": []
  },
  {
   "cell_type": "code",
   "execution_count": null,
   "metadata": {
    "collapsed": false
   },
   "outputs": [],
   "source": []
  },
  {
   "cell_type": "code",
   "execution_count": null,
   "metadata": {
    "collapsed": false
   },
   "outputs": [],
   "source": []
  },
  {
   "cell_type": "code",
   "execution_count": 22,
   "metadata": {
    "collapsed": false
   },
   "outputs": [
    {
     "data": {
      "text/plain": [
       "[u'indigo',\n",
       " u'firebrick',\n",
       " u'indianred',\n",
       " u'tomato',\n",
       " u'orangered',\n",
       " u'burlywood',\n",
       " u'springgreen',\n",
       " u'orange',\n",
       " u'dodgerblue',\n",
       " u'peru',\n",
       " u'chocolate',\n",
       " u'crimson',\n",
       " u'forestgreen',\n",
       " u'cyan',\n",
       " u'red',\n",
       " u'plum',\n",
       " u'turquoise',\n",
       " u'maroon',\n",
       " u'navy',\n",
       " u'magenta',\n",
       " u'blue',\n",
       " u'sienna',\n",
       " u'royalblue',\n",
       " u'green',\n",
       " u'midnightblue',\n",
       " u'teal',\n",
       " u'rebeccapurple',\n",
       " u'steelblue',\n",
       " u'orchid',\n",
       " u'cadetblue',\n",
       " u'purple']"
      ]
     },
     "execution_count": 22,
     "metadata": {},
     "output_type": "execute_result"
    }
   ],
   "source": []
  },
  {
   "cell_type": "code",
   "execution_count": null,
   "metadata": {
    "collapsed": false
   },
   "outputs": [],
   "source": []
  },
  {
   "cell_type": "code",
   "execution_count": null,
   "metadata": {
    "collapsed": false
   },
   "outputs": [],
   "source": []
  },
  {
   "cell_type": "code",
   "execution_count": null,
   "metadata": {
    "collapsed": true
   },
   "outputs": [],
   "source": []
  },
  {
   "cell_type": "code",
   "execution_count": null,
   "metadata": {
    "collapsed": true
   },
   "outputs": [],
   "source": []
  }
 ],
 "metadata": {
  "kernelspec": {
   "display_name": "Python 2",
   "language": "python",
   "name": "python2"
  },
  "language_info": {
   "codemirror_mode": {
    "name": "ipython",
    "version": 2
   },
   "file_extension": ".py",
   "mimetype": "text/x-python",
   "name": "python",
   "nbconvert_exporter": "python",
   "pygments_lexer": "ipython2",
   "version": "2.7.13"
  }
 },
 "nbformat": 4,
 "nbformat_minor": 2
}
