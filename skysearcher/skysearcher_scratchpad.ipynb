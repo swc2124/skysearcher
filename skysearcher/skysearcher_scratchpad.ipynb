{
 "cells": [
  {
   "cell_type": "markdown",
   "metadata": {},
   "source": [
    "# configuration file testing and setup"
   ]
  },
  {
   "cell_type": "code",
   "execution_count": 5,
   "metadata": {
    "collapsed": true
   },
   "outputs": [],
   "source": [
    "import new_cfg\n",
    "import ConfigParser\n",
    "config = ConfigParser.ConfigParser()"
   ]
  },
  {
   "cell_type": "code",
   "execution_count": 15,
   "metadata": {
    "collapsed": false
   },
   "outputs": [],
   "source": [
    "reload(new_cfg)\n",
    "rc_fh = new_cfg.new_rc()"
   ]
  },
  {
   "cell_type": "code",
   "execution_count": 16,
   "metadata": {
    "collapsed": false
   },
   "outputs": [
    {
     "name": "stdout",
     "output_type": "stream",
     "text": [
      "[Data]\n",
      "data_cut = 1\n",
      "halo = halo02\n",
      "d_mpc = 4.0\n",
      "filter_type = h158\n",
      "\n",
      "[PATH]\n",
      "curdir_path = C:\\Users\\swc21\\GitHub\\skysearcher\\skysearcher\n",
      "curdir_name = skysearcher\n",
      "pardir_path = C:\\Users\\swc21\\GitHub\\skysearcher\n",
      "pardir_name = skysearcher\n",
      "data_dir = C:\\Users\\swc21\\GitHub\\skysearcher\\data\n",
      "plot_dir = C:\\Users\\swc21\\GitHub\\skysearcher\\data\\plots\n",
      "table_dir = C:\\Users\\swc21\\GitHub\\skysearcher\\data\\tables\n",
      "grid_dir = C:\\Users\\swc21\\GitHub\\skysearcher\\data\\grids\n",
      "fh_prefix = halo02_4.0_h158\n",
      "grid_file_designator = grid\n",
      "grid_ext = .npy\n",
      "table_file_designator = table\n",
      "table_format = hdf5\n",
      "table_ext = .hdf5\n",
      "table_hdf5_path = data\n",
      "\n",
      "[Program Units]\n",
      "units_radius = kpc\n",
      "units_annulus = degree\n",
      "\n",
      "[Search Extent]\n",
      "r_start = 10\n",
      "r_stop = 275\n",
      "annulus_scale = 0.1\n",
      "annulus_phi_step = 1\n",
      "xbox_min = 10.0\n",
      "\n",
      "[Accept Reject]\n",
      "min_boxes = 25\n",
      "\n",
      "[Plots]\n",
      "full_projection = True\n",
      "heatmap = True\n",
      "regions_together = True\n",
      "\n"
     ]
    }
   ],
   "source": [
    "config.read(rc_fh)\n",
    "for sec in config.sections():\n",
    "    print '[' + sec + ']'\n",
    "    for item in config.items(sec):\n",
    "        print item[0], '=', item[1]\n",
    "    print ''"
   ]
  },
  {
   "cell_type": "markdown",
   "metadata": {},
   "source": [
    "# skysearch_lib testing"
   ]
  },
  {
   "cell_type": "code",
   "execution_count": null,
   "metadata": {
    "collapsed": false
   },
   "outputs": [],
   "source": [
    "\n"
   ]
  },
  {
   "cell_type": "code",
   "execution_count": 3,
   "metadata": {
    "collapsed": false
   },
   "outputs": [],
   "source": [
    "import skysearch_lib as ss_lib\n",
    "import ConfigParser\n",
    "#import ConfigParser"
   ]
  },
  {
   "cell_type": "code",
   "execution_count": 13,
   "metadata": {
    "collapsed": false
   },
   "outputs": [
    {
     "name": "stdout",
     "output_type": "stream",
     "text": [
      "[Data]\n",
      "data_cut = 1\n",
      "halo = halo02\n",
      "d_mpc = 4.0\n",
      "filter_type = h158\n",
      "\n",
      "[PATH]\n",
      "curdir_path = C:\\Users\\swc21\\GitHub\\skysearcher\\skysearcher\n",
      "curdir_name = skysearcher\n",
      "pardir_path = C:\\Users\\swc21\\GitHub\\skysearcher\n",
      "pardir_name = skysearcher\n",
      "data_dir = C:\\Users\\swc21\\GitHub\\skysearcher\\data\n",
      "plot_dir = C:\\Users\\swc21\\GitHub\\skysearcher\\data\\plots\n",
      "table_dir = C:\\Users\\swc21\\GitHub\\skysearcher\\data\\tables\n",
      "grid_dir = C:\\Users\\swc21\\GitHub\\skysearcher\\data\\grids\n",
      "fh_prefix = halo02_4.0_h158\n",
      "grid_file_designator = grid\n",
      "grid_ext = .npy\n",
      "table_file_designator = table\n",
      "table_format = hdf5\n",
      "table_ext = .hdf5\n",
      "\n",
      "[Program Units]\n",
      "units_radius = kpc\n",
      "units_annulus = degree\n",
      "\n",
      "[Search Extent]\n",
      "r_start = 10\n",
      "r_stop = 275\n",
      "annulus_scale = 0.1\n",
      "annulus_phi_step = 1\n",
      "xbox_min = 10.0\n",
      "\n",
      "[Accept Reject]\n",
      "min_boxes = 25\n",
      "\n",
      "[Plots]\n",
      "full_projection = True\n",
      "heatmap = True\n",
      "regions_together = True\n",
      "\n"
     ]
    }
   ],
   "source": [
    "config = ConfigParser.ConfigParser()\n",
    "config.read(ss_lib.sortout_rcfile())\n",
    "for sec in config.sections():\n",
    "    print '[' + sec + ']'\n",
    "    for item in config.items(sec):\n",
    "        print item[0], '=', item[1]\n",
    "    print ''"
   ]
  },
  {
   "cell_type": "code",
   "execution_count": null,
   "metadata": {
    "collapsed": false
   },
   "outputs": [],
   "source": []
  },
  {
   "cell_type": "code",
   "execution_count": null,
   "metadata": {
    "collapsed": false
   },
   "outputs": [],
   "source": []
  },
  {
   "cell_type": "markdown",
   "metadata": {},
   "source": [
    "# file system support testing"
   ]
  },
  {
   "cell_type": "code",
   "execution_count": null,
   "metadata": {
    "collapsed": true
   },
   "outputs": [],
   "source": [
    "import os"
   ]
  },
  {
   "cell_type": "code",
   "execution_count": null,
   "metadata": {
    "collapsed": false
   },
   "outputs": [],
   "source": [
    "# string path to this (current) directory\n",
    "curdir_path = os.path.abspath(os.path.curdir)"
   ]
  },
  {
   "cell_type": "code",
   "execution_count": null,
   "metadata": {
    "collapsed": false
   },
   "outputs": [],
   "source": [
    "# parent directory path and current directory name\n",
    "pardir_path, curdir_name = os.path.split(curdir_path)"
   ]
  },
  {
   "cell_type": "code",
   "execution_count": null,
   "metadata": {
    "collapsed": false
   },
   "outputs": [],
   "source": [
    "# parent directory name\n",
    "pardir_name = os.path.split(pardir_path)[1]"
   ]
  },
  {
   "cell_type": "code",
   "execution_count": null,
   "metadata": {
    "collapsed": false
   },
   "outputs": [],
   "source": [
    "# list of files in this directory with .cfg ext\n",
    "[f for f in os.listdir(os.path.abspath(os.path.curdir)) if os.path.splitext(f)[1] == '.cfg']"
   ]
  },
  {
   "cell_type": "code",
   "execution_count": null,
   "metadata": {
    "collapsed": false
   },
   "outputs": [],
   "source": [
    "dmpc = '4.0'\n",
    "filter_type = 'h158'\n",
    "halo ='halo02'\n",
    "file_type = 'grid'\n",
    "ext = 'npy'"
   ]
  },
  {
   "cell_type": "code",
   "execution_count": null,
   "metadata": {
    "collapsed": false
   },
   "outputs": [],
   "source": [
    "'_'.join([halo, dmpc, filter_type, file_type]) + os.path.extsep + ext"
   ]
  },
  {
   "cell_type": "code",
   "execution_count": null,
   "metadata": {
    "collapsed": false
   },
   "outputs": [],
   "source": [
    "'_'.join([halo, dmpc, filter_type])#, file_type])"
   ]
  },
  {
   "cell_type": "markdown",
   "metadata": {},
   "source": [
    "# annuluar and radial segment limits"
   ]
  },
  {
   "cell_type": "code",
   "execution_count": 31,
   "metadata": {
    "collapsed": true
   },
   "outputs": [],
   "source": [
    "import os\n",
    "import numpy as np\n",
    "import skysearch_lib as ss_lib\n",
    "from astropy.table import Table"
   ]
  },
  {
   "cell_type": "code",
   "execution_count": 19,
   "metadata": {
    "collapsed": true
   },
   "outputs": [],
   "source": [
    "# The starting degree of this radius' annulus (phi_start). \n",
    "phi_start = 0.0\n",
    "\n",
    "# The ending degree (phi_stop).\n",
    "phi_stop = 360.0\n",
    "\n",
    "# <<ss_lib.annulus_phi_step>> - For units of degrees, this is the number \n",
    "# we dived 360.0 by to get the evaluation region's segment size.  The \n",
    "# larger this number, the smaller the segment.  How do smaller or larger \n",
    "# segment sizes effect this algorithm? (float)\n",
    "\n",
    "# The size of the annular segment to evaluate (phi_step). (float)\n",
    "phi_step = 360.0 // ss_lib.annulus_phi_step"
   ]
  },
  {
   "cell_type": "code",
   "execution_count": 20,
   "metadata": {
    "collapsed": false
   },
   "outputs": [
    {
     "name": "stdout",
     "output_type": "stream",
     "text": [
      "360.0\n"
     ]
    }
   ],
   "source": [
    "print phi_step"
   ]
  },
  {
   "cell_type": "code",
   "execution_count": 27,
   "metadata": {
    "collapsed": false
   },
   "outputs": [],
   "source": [
    "arr, step = np.linspace(start=phi_start, stop=phi_stop, num=phi_step, endpoint=True, retstep=True, dtype=np.float16)\n"
   ]
  },
  {
   "cell_type": "markdown",
   "metadata": {},
   "source": [
    "# custom generator function"
   ]
  },
  {
   "cell_type": "code",
   "execution_count": 115,
   "metadata": {
    "collapsed": true
   },
   "outputs": [],
   "source": [
    "from matplotlib import pyplot as plt\n",
    "import numpy as np"
   ]
  },
  {
   "cell_type": "code",
   "execution_count": 141,
   "metadata": {
    "collapsed": true
   },
   "outputs": [],
   "source": [
    "def regions(r_0, r_1, r_step, r_scale, deg_0, deg_1, deg_step):\n",
    "    \n",
    "    for radius in xrange(r_0, r_1, r_step):\n",
    "        \n",
    "        region = radius * r_scale\n",
    "        r_in = radius - region\n",
    "        r_out = radius + region\n",
    "        #r_in = radius \n",
    "        #r_out = radius + r_step\n",
    "        \n",
    "        for annular_segment in np.linspace(deg_0, deg_1, deg_step, dtype=np.float16):\n",
    "              \n",
    "            yield r_in, r_out, annular_segment"
   ]
  },
  {
   "cell_type": "code",
   "execution_count": 37,
   "metadata": {
    "collapsed": false
   },
   "outputs": [],
   "source": [
    "table_dir = 'C:/Users/swc21/skysurvey/tables/merged_tables/'\n",
    "#print os.listdir(table_dir)\n",
    "table = Table.read(table_dir + 'halo08.hdf5', format='hdf5', path='data')"
   ]
  },
  {
   "cell_type": "code",
   "execution_count": 94,
   "metadata": {
    "collapsed": false
   },
   "outputs": [],
   "source": [
    "_regions = regions(10, 275, 10, 0.1, 0, 360, 15)"
   ]
  },
  {
   "cell_type": "code",
   "execution_count": 54,
   "metadata": {
    "collapsed": false
   },
   "outputs": [
    {
     "data": {
      "text/plain": [
       "(45.0, 55.0, -181.0, -179.0)"
      ]
     },
     "execution_count": 54,
     "metadata": {},
     "output_type": "execute_result"
    }
   ],
   "source": [
    "_regions.next()"
   ]
  },
  {
   "cell_type": "code",
   "execution_count": 147,
   "metadata": {
    "collapsed": true
   },
   "outputs": [],
   "source": [
    "r_0 = 10\n",
    "r_1 = 275\n",
    "r_step = 1\n",
    "r_scale = 0.1\n",
    "deg_0 = 0.0\n",
    "deg_1 = 360.0\n",
    "deg_step = 180.0\n",
    "patch = 360.0 / deg_step\n",
    "wdth = (patch * deg_mod) * 1.065"
   ]
  },
  {
   "cell_type": "code",
   "execution_count": 148,
   "metadata": {
    "collapsed": false
   },
   "outputs": [
    {
     "ename": "KeyboardInterrupt",
     "evalue": "",
     "output_type": "error",
     "traceback": [
      "\u001b[0;31m---------------------------------------------------------------------------\u001b[0m",
      "\u001b[0;31mKeyboardInterrupt\u001b[0m                         Traceback (most recent call last)",
      "\u001b[0;32m<ipython-input-148-33d725a95720>\u001b[0m in \u001b[0;36m<module>\u001b[0;34m()\u001b[0m\n\u001b[1;32m     14\u001b[0m         \u001b[0mwidth\u001b[0m\u001b[1;33m=\u001b[0m\u001b[0mwdth\u001b[0m\u001b[1;33m,\u001b[0m\u001b[1;33m\u001b[0m\u001b[0m\n\u001b[1;32m     15\u001b[0m         \u001b[0mbottom\u001b[0m\u001b[1;33m=\u001b[0m\u001b[0mr_in\u001b[0m\u001b[1;33m,\u001b[0m\u001b[1;33m\u001b[0m\u001b[0m\n\u001b[0;32m---> 16\u001b[0;31m         alpha=.2)\n\u001b[0m\u001b[1;32m     17\u001b[0m \u001b[1;33m\u001b[0m\u001b[0m\n\u001b[1;32m     18\u001b[0m \u001b[0mplr\u001b[0m\u001b[1;33m.\u001b[0m\u001b[0mset_thetagrids\u001b[0m\u001b[1;33m(\u001b[0m\u001b[0mrange\u001b[0m\u001b[1;33m(\u001b[0m\u001b[1;36m0\u001b[0m\u001b[1;33m,\u001b[0m\u001b[1;36m360\u001b[0m\u001b[1;33m,\u001b[0m\u001b[1;36m15\u001b[0m\u001b[1;33m)\u001b[0m\u001b[1;33m)\u001b[0m\u001b[1;33m\u001b[0m\u001b[0m\n",
      "\u001b[0;32mC:\\Users\\swc21\\Anaconda2\\lib\\site-packages\\matplotlib\\__init__.pyc\u001b[0m in \u001b[0;36minner\u001b[0;34m(ax, *args, **kwargs)\u001b[0m\n\u001b[1;32m   1895\u001b[0m                     warnings.warn(msg % (label_namer, func.__name__),\n\u001b[1;32m   1896\u001b[0m                                   RuntimeWarning, stacklevel=2)\n\u001b[0;32m-> 1897\u001b[0;31m             \u001b[1;32mreturn\u001b[0m \u001b[0mfunc\u001b[0m\u001b[1;33m(\u001b[0m\u001b[0max\u001b[0m\u001b[1;33m,\u001b[0m \u001b[1;33m*\u001b[0m\u001b[0margs\u001b[0m\u001b[1;33m,\u001b[0m \u001b[1;33m**\u001b[0m\u001b[0mkwargs\u001b[0m\u001b[1;33m)\u001b[0m\u001b[1;33m\u001b[0m\u001b[0m\n\u001b[0m\u001b[1;32m   1898\u001b[0m         \u001b[0mpre_doc\u001b[0m \u001b[1;33m=\u001b[0m \u001b[0minner\u001b[0m\u001b[1;33m.\u001b[0m\u001b[0m__doc__\u001b[0m\u001b[1;33m\u001b[0m\u001b[0m\n\u001b[1;32m   1899\u001b[0m         \u001b[1;32mif\u001b[0m \u001b[0mpre_doc\u001b[0m \u001b[1;32mis\u001b[0m \u001b[0mNone\u001b[0m\u001b[1;33m:\u001b[0m\u001b[1;33m\u001b[0m\u001b[0m\n",
      "\u001b[0;32mC:\\Users\\swc21\\Anaconda2\\lib\\site-packages\\matplotlib\\axes\\_axes.pyc\u001b[0m in \u001b[0;36mbar\u001b[0;34m(self, left, height, width, bottom, **kwargs)\u001b[0m\n\u001b[1;32m   2169\u001b[0m             \u001b[0mymin\u001b[0m \u001b[1;33m=\u001b[0m \u001b[0mmax\u001b[0m\u001b[1;33m(\u001b[0m\u001b[0mymin\u001b[0m \u001b[1;33m*\u001b[0m \u001b[1;36m0.9\u001b[0m\u001b[1;33m,\u001b[0m \u001b[1;36m1e-100\u001b[0m\u001b[1;33m)\u001b[0m\u001b[1;33m\u001b[0m\u001b[0m\n\u001b[1;32m   2170\u001b[0m             \u001b[0mself\u001b[0m\u001b[1;33m.\u001b[0m\u001b[0mdataLim\u001b[0m\u001b[1;33m.\u001b[0m\u001b[0mintervaly\u001b[0m \u001b[1;33m=\u001b[0m \u001b[1;33m(\u001b[0m\u001b[0mymin\u001b[0m\u001b[1;33m,\u001b[0m \u001b[0mymax\u001b[0m\u001b[1;33m)\u001b[0m\u001b[1;33m\u001b[0m\u001b[0m\n\u001b[0;32m-> 2171\u001b[0;31m         \u001b[0mself\u001b[0m\u001b[1;33m.\u001b[0m\u001b[0mautoscale_view\u001b[0m\u001b[1;33m(\u001b[0m\u001b[1;33m)\u001b[0m\u001b[1;33m\u001b[0m\u001b[0m\n\u001b[0m\u001b[1;32m   2172\u001b[0m \u001b[1;33m\u001b[0m\u001b[0m\n\u001b[1;32m   2173\u001b[0m         \u001b[0mbar_container\u001b[0m \u001b[1;33m=\u001b[0m \u001b[0mBarContainer\u001b[0m\u001b[1;33m(\u001b[0m\u001b[0mpatches\u001b[0m\u001b[1;33m,\u001b[0m \u001b[0merrorbar\u001b[0m\u001b[1;33m,\u001b[0m \u001b[0mlabel\u001b[0m\u001b[1;33m=\u001b[0m\u001b[0mlabel\u001b[0m\u001b[1;33m)\u001b[0m\u001b[1;33m\u001b[0m\u001b[0m\n",
      "\u001b[0;32mC:\\Users\\swc21\\Anaconda2\\lib\\site-packages\\matplotlib\\axes\\_base.pyc\u001b[0m in \u001b[0;36mautoscale_view\u001b[0;34m(self, tight, scalex, scaley)\u001b[0m\n\u001b[1;32m   2334\u001b[0m         handle_single_axis(\n\u001b[1;32m   2335\u001b[0m             \u001b[0mscalex\u001b[0m\u001b[1;33m,\u001b[0m \u001b[0mself\u001b[0m\u001b[1;33m.\u001b[0m\u001b[0m_autoscaleXon\u001b[0m\u001b[1;33m,\u001b[0m \u001b[0mself\u001b[0m\u001b[1;33m.\u001b[0m\u001b[0m_shared_x_axes\u001b[0m\u001b[1;33m,\u001b[0m \u001b[1;34m'intervalx'\u001b[0m\u001b[1;33m,\u001b[0m\u001b[1;33m\u001b[0m\u001b[0m\n\u001b[0;32m-> 2336\u001b[0;31m             'minposx', self.xaxis, self._xmargin, x_stickies, self.set_xbound)\n\u001b[0m\u001b[1;32m   2337\u001b[0m         handle_single_axis(\n\u001b[1;32m   2338\u001b[0m             \u001b[0mscaley\u001b[0m\u001b[1;33m,\u001b[0m \u001b[0mself\u001b[0m\u001b[1;33m.\u001b[0m\u001b[0m_autoscaleYon\u001b[0m\u001b[1;33m,\u001b[0m \u001b[0mself\u001b[0m\u001b[1;33m.\u001b[0m\u001b[0m_shared_y_axes\u001b[0m\u001b[1;33m,\u001b[0m \u001b[1;34m'intervaly'\u001b[0m\u001b[1;33m,\u001b[0m\u001b[1;33m\u001b[0m\u001b[0m\n",
      "\u001b[0;32mC:\\Users\\swc21\\Anaconda2\\lib\\site-packages\\matplotlib\\axes\\_base.pyc\u001b[0m in \u001b[0;36mhandle_single_axis\u001b[0;34m(scale, autoscaleon, shared_axes, interval, minpos, axis, margin, stickies, set_bound)\u001b[0m\n\u001b[1;32m   2280\u001b[0m                 \u001b[1;32mreturn\u001b[0m  \u001b[1;31m# nothing to do...\u001b[0m\u001b[1;33m\u001b[0m\u001b[0m\n\u001b[1;32m   2281\u001b[0m \u001b[1;33m\u001b[0m\u001b[0m\n\u001b[0;32m-> 2282\u001b[0;31m             \u001b[0mshared\u001b[0m \u001b[1;33m=\u001b[0m \u001b[0mshared_axes\u001b[0m\u001b[1;33m.\u001b[0m\u001b[0mget_siblings\u001b[0m\u001b[1;33m(\u001b[0m\u001b[0mself\u001b[0m\u001b[1;33m)\u001b[0m\u001b[1;33m\u001b[0m\u001b[0m\n\u001b[0m\u001b[1;32m   2283\u001b[0m             \u001b[0mdl\u001b[0m \u001b[1;33m=\u001b[0m \u001b[1;33m[\u001b[0m\u001b[0max\u001b[0m\u001b[1;33m.\u001b[0m\u001b[0mdataLim\u001b[0m \u001b[1;32mfor\u001b[0m \u001b[0max\u001b[0m \u001b[1;32min\u001b[0m \u001b[0mshared\u001b[0m\u001b[1;33m]\u001b[0m\u001b[1;33m\u001b[0m\u001b[0m\n\u001b[1;32m   2284\u001b[0m             \u001b[1;31m# ignore non-finite data limits if good limits exist\u001b[0m\u001b[1;33m\u001b[0m\u001b[1;33m\u001b[0m\u001b[0m\n",
      "\u001b[0;32mC:\\Users\\swc21\\Anaconda2\\lib\\site-packages\\matplotlib\\cbook.pyc\u001b[0m in \u001b[0;36mget_siblings\u001b[0;34m(self, a)\u001b[0m\n\u001b[1;32m   1763\u001b[0m         \u001b[0mReturns\u001b[0m \u001b[0mall\u001b[0m \u001b[0mof\u001b[0m \u001b[0mthe\u001b[0m \u001b[0mitems\u001b[0m \u001b[0mjoined\u001b[0m \u001b[1;32mwith\u001b[0m \u001b[1;33m*\u001b[0m\u001b[0ma\u001b[0m\u001b[1;33m*\u001b[0m\u001b[1;33m,\u001b[0m \u001b[0mincluding\u001b[0m \u001b[0mitself\u001b[0m\u001b[1;33m.\u001b[0m\u001b[1;33m\u001b[0m\u001b[0m\n\u001b[1;32m   1764\u001b[0m         \"\"\"\n\u001b[0;32m-> 1765\u001b[0;31m         \u001b[0mself\u001b[0m\u001b[1;33m.\u001b[0m\u001b[0mclean\u001b[0m\u001b[1;33m(\u001b[0m\u001b[1;33m)\u001b[0m\u001b[1;33m\u001b[0m\u001b[0m\n\u001b[0m\u001b[1;32m   1766\u001b[0m \u001b[1;33m\u001b[0m\u001b[0m\n\u001b[1;32m   1767\u001b[0m         \u001b[0msiblings\u001b[0m \u001b[1;33m=\u001b[0m \u001b[0mself\u001b[0m\u001b[1;33m.\u001b[0m\u001b[0m_mapping\u001b[0m\u001b[1;33m.\u001b[0m\u001b[0mget\u001b[0m\u001b[1;33m(\u001b[0m\u001b[0mref\u001b[0m\u001b[1;33m(\u001b[0m\u001b[0ma\u001b[0m\u001b[1;33m)\u001b[0m\u001b[1;33m,\u001b[0m \u001b[1;33m[\u001b[0m\u001b[0mref\u001b[0m\u001b[1;33m(\u001b[0m\u001b[0ma\u001b[0m\u001b[1;33m)\u001b[0m\u001b[1;33m]\u001b[0m\u001b[1;33m)\u001b[0m\u001b[1;33m\u001b[0m\u001b[0m\n",
      "\u001b[0;32mC:\\Users\\swc21\\Anaconda2\\lib\\site-packages\\matplotlib\\cbook.pyc\u001b[0m in \u001b[0;36mclean\u001b[0;34m(self)\u001b[0m\n\u001b[1;32m   1691\u001b[0m         \u001b[1;32mfor\u001b[0m \u001b[0mkey\u001b[0m \u001b[1;32min\u001b[0m \u001b[0mto_drop\u001b[0m\u001b[1;33m:\u001b[0m\u001b[1;33m\u001b[0m\u001b[0m\n\u001b[1;32m   1692\u001b[0m             \u001b[0mval\u001b[0m \u001b[1;33m=\u001b[0m \u001b[0mmapping\u001b[0m\u001b[1;33m.\u001b[0m\u001b[0mpop\u001b[0m\u001b[1;33m(\u001b[0m\u001b[0mkey\u001b[0m\u001b[1;33m)\u001b[0m\u001b[1;33m\u001b[0m\u001b[0m\n\u001b[0;32m-> 1693\u001b[0;31m             \u001b[0mval\u001b[0m\u001b[1;33m.\u001b[0m\u001b[0mremove\u001b[0m\u001b[1;33m(\u001b[0m\u001b[0mkey\u001b[0m\u001b[1;33m)\u001b[0m\u001b[1;33m\u001b[0m\u001b[0m\n\u001b[0m\u001b[1;32m   1694\u001b[0m \u001b[1;33m\u001b[0m\u001b[0m\n\u001b[1;32m   1695\u001b[0m     \u001b[1;32mdef\u001b[0m \u001b[0mjoin\u001b[0m\u001b[1;33m(\u001b[0m\u001b[0mself\u001b[0m\u001b[1;33m,\u001b[0m \u001b[0ma\u001b[0m\u001b[1;33m,\u001b[0m \u001b[1;33m*\u001b[0m\u001b[0margs\u001b[0m\u001b[1;33m)\u001b[0m\u001b[1;33m:\u001b[0m\u001b[1;33m\u001b[0m\u001b[0m\n",
      "\u001b[0;31mKeyboardInterrupt\u001b[0m: "
     ]
    }
   ],
   "source": [
    "fig = plt.figure(figsize=(10,10))\n",
    "#ax = fig.add_subplot(111)\n",
    "rect = [0.1, 0.1, 0.8, 0.8]\n",
    "deg_mod = 2.0 * (np.pi / 360.0)\n",
    "plr = fig.add_axes(rect, polar=True, alpha=.2, facecolor=None, frame_on=False)\n",
    "\n",
    "\n",
    "for r_in, r_out, annular_segment in regions(r_0, r_1, r_step, r_scale, deg_0, deg_1, deg_step):\n",
    "    lft = annular_segment * deg_mod\n",
    "    \n",
    "    plr.bar(\n",
    "        left=lft + wdth, \n",
    "        height=r_out - r_in, \n",
    "        width=wdth, \n",
    "        bottom=r_in,\n",
    "        alpha=.2)\n",
    "    \n",
    "plr.set_thetagrids(range(0,360,15))\n",
    "plr.set_ylim([0, 300])\n",
    "\n",
    "\n",
    "\n",
    "ax = fig.add_axes(rect, alpha=.2, facecolor=None, frame_on=True)\n",
    "ax.set_ylim([0, 600])\n",
    "ax.set_xlim([0, 600])\n",
    "ax.axis('off')\n",
    "ax.set_aspect('equal')\n",
    "\n",
    "plt.show()\n",
    "\n",
    "#for r_in, r_out, deg_start, deg_stop in _regions:\n",
    "    "
   ]
  },
  {
   "cell_type": "code",
   "execution_count": 86,
   "metadata": {
    "collapsed": false
   },
   "outputs": [
    {
     "data": {
      "text/plain": [
       "0.017453292519943295"
      ]
     },
     "execution_count": 86,
     "metadata": {},
     "output_type": "execute_result"
    }
   ],
   "source": []
  },
  {
   "cell_type": "code",
   "execution_count": null,
   "metadata": {
    "collapsed": false
   },
   "outputs": [],
   "source": []
  },
  {
   "cell_type": "code",
   "execution_count": null,
   "metadata": {
    "collapsed": true
   },
   "outputs": [],
   "source": []
  },
  {
   "cell_type": "code",
   "execution_count": null,
   "metadata": {
    "collapsed": true
   },
   "outputs": [],
   "source": []
  }
 ],
 "metadata": {
  "kernelspec": {
   "display_name": "Python 2",
   "language": "python",
   "name": "python2"
  },
  "language_info": {
   "codemirror_mode": {
    "name": "ipython",
    "version": 2
   },
   "file_extension": ".py",
   "mimetype": "text/x-python",
   "name": "python",
   "nbconvert_exporter": "python",
   "pygments_lexer": "ipython2",
   "version": "2.7.13"
  }
 },
 "nbformat": 4,
 "nbformat_minor": 2
}
