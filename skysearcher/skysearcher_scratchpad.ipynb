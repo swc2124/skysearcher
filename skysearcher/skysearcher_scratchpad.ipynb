{
 "cells": [
  {
   "cell_type": "markdown",
   "metadata": {},
   "source": [
    "# configuration file testing and setup"
   ]
  },
  {
   "cell_type": "code",
   "execution_count": null,
   "metadata": {
    "collapsed": true
   },
   "outputs": [],
   "source": [
    "import new_cfg\n",
    "import ConfigParser\n",
    "config = ConfigParser.ConfigParser()"
   ]
  },
  {
   "cell_type": "code",
   "execution_count": null,
   "metadata": {
    "collapsed": false
   },
   "outputs": [],
   "source": [
    "reload(new_cfg)\n",
    "rc_fh = new_cfg.new_rc()"
   ]
  },
  {
   "cell_type": "code",
   "execution_count": null,
   "metadata": {
    "collapsed": false
   },
   "outputs": [],
   "source": [
    "config.read(rc_fh)\n",
    "for sec in config.sections():\n",
    "    print '[' + sec + ']'\n",
    "    for item in config.items(sec):\n",
    "        print item[0], '=', item[1]\n",
    "    print ''"
   ]
  },
  {
   "cell_type": "markdown",
   "metadata": {},
   "source": [
    "# skysearch_lib testing"
   ]
  },
  {
   "cell_type": "code",
   "execution_count": null,
   "metadata": {
    "collapsed": false
   },
   "outputs": [],
   "source": [
    "import skysearch_lib as ss_lib\n",
    "import ConfigParser\n",
    "#import ConfigParser"
   ]
  },
  {
   "cell_type": "code",
   "execution_count": null,
   "metadata": {
    "collapsed": false
   },
   "outputs": [],
   "source": [
    "config = ConfigParser.ConfigParser()\n",
    "config.read(ss_lib.sortout_rcfile())\n",
    "for sec in config.sections():\n",
    "    print '[' + sec + ']'\n",
    "    for item in config.items(sec):\n",
    "        print item[0], '=', item[1]\n",
    "    print ''"
   ]
  },
  {
   "cell_type": "code",
   "execution_count": null,
   "metadata": {
    "collapsed": false
   },
   "outputs": [],
   "source": [
    "\n"
   ]
  },
  {
   "cell_type": "code",
   "execution_count": null,
   "metadata": {
    "collapsed": false
   },
   "outputs": [],
   "source": []
  },
  {
   "cell_type": "code",
   "execution_count": null,
   "metadata": {
    "collapsed": false
   },
   "outputs": [],
   "source": []
  },
  {
   "cell_type": "markdown",
   "metadata": {},
   "source": [
    "# file system support testing"
   ]
  },
  {
   "cell_type": "code",
   "execution_count": null,
   "metadata": {
    "collapsed": true
   },
   "outputs": [],
   "source": [
    "import os"
   ]
  },
  {
   "cell_type": "code",
   "execution_count": null,
   "metadata": {
    "collapsed": false
   },
   "outputs": [],
   "source": [
    "# string path to this (current) directory\n",
    "curdir_path = os.path.abspath(os.path.curdir)"
   ]
  },
  {
   "cell_type": "code",
   "execution_count": null,
   "metadata": {
    "collapsed": false
   },
   "outputs": [],
   "source": [
    "# parent directory path and current directory name\n",
    "pardir_path, curdir_name = os.path.split(curdir_path)"
   ]
  },
  {
   "cell_type": "code",
   "execution_count": null,
   "metadata": {
    "collapsed": false
   },
   "outputs": [],
   "source": [
    "# parent directory name\n",
    "pardir_name = os.path.split(pardir_path)[1]"
   ]
  },
  {
   "cell_type": "code",
   "execution_count": null,
   "metadata": {
    "collapsed": false
   },
   "outputs": [],
   "source": [
    "# list of files in this directory with .cfg ext\n",
    "[f for f in os.listdir(os.path.abspath(os.path.curdir)) if os.path.splitext(f)[1] == '.cfg']"
   ]
  },
  {
   "cell_type": "code",
   "execution_count": null,
   "metadata": {
    "collapsed": false
   },
   "outputs": [],
   "source": [
    "dmpc = '4.0'\n",
    "filter_type = 'h158'\n",
    "halo ='halo02'\n",
    "file_type = 'grid'\n",
    "ext = 'npy'"
   ]
  },
  {
   "cell_type": "code",
   "execution_count": null,
   "metadata": {
    "collapsed": false
   },
   "outputs": [],
   "source": [
    "'_'.join([halo, dmpc, filter_type, file_type]) + os.path.extsep + ext"
   ]
  },
  {
   "cell_type": "code",
   "execution_count": null,
   "metadata": {
    "collapsed": false
   },
   "outputs": [],
   "source": [
    "'_'.join([halo, dmpc, filter_type])#, file_type])"
   ]
  },
  {
   "cell_type": "markdown",
   "metadata": {},
   "source": [
    "# annuluar and radial segment limits"
   ]
  },
  {
   "cell_type": "code",
   "execution_count": null,
   "metadata": {
    "collapsed": true
   },
   "outputs": [],
   "source": [
    "import os\n",
    "import numpy as np\n",
    "import skysearch_lib as ss_lib\n",
    "from astropy.table import Table"
   ]
  },
  {
   "cell_type": "code",
   "execution_count": null,
   "metadata": {
    "collapsed": true
   },
   "outputs": [],
   "source": [
    "# The starting degree of this radius' annulus (phi_start). \n",
    "phi_start = 0.0\n",
    "\n",
    "# The ending degree (phi_stop).\n",
    "phi_stop = 360.0\n",
    "\n",
    "# <<ss_lib.annulus_phi_step>> - For units of degrees, this is the number \n",
    "# we dived 360.0 by to get the evaluation region's segment size.  The \n",
    "# larger this number, the smaller the segment.  How do smaller or larger \n",
    "# segment sizes effect this algorithm? (float)\n",
    "\n",
    "# The size of the annular segment to evaluate (phi_step). (float)\n",
    "phi_step = 360.0 // ss_lib.annulus_phi_step"
   ]
  },
  {
   "cell_type": "code",
   "execution_count": null,
   "metadata": {
    "collapsed": false
   },
   "outputs": [],
   "source": [
    "print phi_step"
   ]
  },
  {
   "cell_type": "code",
   "execution_count": null,
   "metadata": {
    "collapsed": false
   },
   "outputs": [],
   "source": [
    "arr, step = np.linspace(start=phi_start, stop=phi_stop, num=phi_step, endpoint=True, retstep=True, dtype=np.float16)\n"
   ]
  },
  {
   "cell_type": "markdown",
   "metadata": {},
   "source": [
    "## - custom generator function"
   ]
  },
  {
   "cell_type": "code",
   "execution_count": null,
   "metadata": {
    "collapsed": true
   },
   "outputs": [],
   "source": [
    "from matplotlib import pyplot as plt\n",
    "import numpy as np"
   ]
  },
  {
   "cell_type": "code",
   "execution_count": null,
   "metadata": {
    "collapsed": true
   },
   "outputs": [],
   "source": [
    "def regions(r_0, r_1, r_step, r_scale, deg_0, deg_1, deg_step):\n",
    "    \n",
    "    for radius in xrange(r_0, r_1, r_step):\n",
    "        \n",
    "        region = radius * r_scale\n",
    "        r_in = radius - region\n",
    "        r_out = radius + region\n",
    "        #r_in = radius \n",
    "        #r_out = radius + r_step\n",
    "        \n",
    "        for annular_segment in np.linspace(deg_0, deg_1, deg_step, dtype=np.float16):\n",
    "              \n",
    "            yield r_in, r_out, annular_segment"
   ]
  },
  {
   "cell_type": "code",
   "execution_count": null,
   "metadata": {
    "collapsed": false
   },
   "outputs": [],
   "source": []
  },
  {
   "cell_type": "code",
   "execution_count": null,
   "metadata": {
    "collapsed": false
   },
   "outputs": [],
   "source": []
  },
  {
   "cell_type": "code",
   "execution_count": 3,
   "metadata": {
    "collapsed": false
   },
   "outputs": [
    {
     "data": {
      "text/plain": [
       "128"
      ]
     },
     "execution_count": 3,
     "metadata": {},
     "output_type": "execute_result"
    }
   ],
   "source": [
    "len('')"
   ]
  },
  {
   "cell_type": "code",
   "execution_count": null,
   "metadata": {
    "collapsed": true
   },
   "outputs": [],
   "source": [
    "r_0 = 10\n",
    "r_1 = 275\n",
    "r_step = 1\n",
    "r_scale = 0.1\n",
    "deg_0 = 0.0\n",
    "deg_1 = 360.0\n",
    "deg_step = 180.0\n",
    "patch = 360.0 / deg_step\n",
    "wdth = (patch * deg_mod) * 1.065"
   ]
  },
  {
   "cell_type": "code",
   "execution_count": null,
   "metadata": {
    "collapsed": false
   },
   "outputs": [],
   "source": [
    "fig = plt.figure(figsize=(10,10))\n",
    "#ax = fig.add_subplot(111)\n",
    "rect = [0.1, 0.1, 0.8, 0.8]\n",
    "deg_mod = 2.0 * (np.pi / 360.0)\n",
    "plr = fig.add_axes(rect, polar=True, alpha=.2, facecolor=None, frame_on=False)\n",
    "\n",
    "\n",
    "for r_in, r_out, annular_segment in regions(r_0, r_1, r_step, r_scale, deg_0, deg_1, deg_step):\n",
    "    lft = annular_segment * deg_mod\n",
    "    \n",
    "    plr.bar(\n",
    "        left=lft + wdth, \n",
    "        height=r_out - r_in, \n",
    "        width=wdth, \n",
    "        bottom=r_in,\n",
    "        alpha=.2)\n",
    "    \n",
    "plr.set_thetagrids(range(0,360,15))\n",
    "plr.set_ylim([0, 300])\n",
    "\n",
    "\n",
    "\n",
    "ax = fig.add_axes(rect, alpha=.2, facecolor=None, frame_on=True)\n",
    "ax.set_ylim([0, 600])\n",
    "ax.set_xlim([0, 600])\n",
    "ax.axis('off')\n",
    "ax.set_aspect('equal')\n",
    "\n",
    "plt.show()\n",
    "\n",
    "#for r_in, r_out, deg_start, deg_stop in _regions:\n",
    "    "
   ]
  },
  {
   "cell_type": "code",
   "execution_count": null,
   "metadata": {
    "collapsed": false
   },
   "outputs": [],
   "source": []
  },
  {
   "cell_type": "code",
   "execution_count": null,
   "metadata": {
    "collapsed": false
   },
   "outputs": [],
   "source": []
  },
  {
   "cell_type": "code",
   "execution_count": null,
   "metadata": {
    "collapsed": true
   },
   "outputs": [],
   "source": []
  },
  {
   "cell_type": "code",
   "execution_count": 1,
   "metadata": {
    "collapsed": false
   },
   "outputs": [
    {
     "name": "stdout",
     "output_type": "stream",
     "text": [
      "0\n",
      "1\n",
      "2\n",
      "3\n",
      "4\n",
      "5\n",
      "6\n",
      "7\n",
      "8\n",
      "9\n",
      "result 144\n",
      "10\n",
      "result 144\n",
      "11\n",
      "result 144\n",
      "12\n",
      "result 144\n",
      "13\n",
      "result 144\n",
      "14\n",
      "result 144\n",
      "15\n",
      "result 144\n",
      "16\n",
      "result 144\n",
      "17\n",
      "result 144\n",
      "18\n",
      "result 144\n",
      "19\n",
      "result 144\n",
      "the call has not yet completed its task\n"
     ]
    }
   ],
   "source": []
  },
  {
   "cell_type": "code",
   "execution_count": null,
   "metadata": {
    "collapsed": true
   },
   "outputs": [],
   "source": []
  }
 ],
 "metadata": {
  "kernelspec": {
   "display_name": "Python 2",
   "language": "python",
   "name": "python2"
  },
  "language_info": {
   "codemirror_mode": {
    "name": "ipython",
    "version": 2
   },
   "file_extension": ".py",
   "mimetype": "text/x-python",
   "name": "python",
   "nbconvert_exporter": "python",
   "pygments_lexer": "ipython2",
   "version": "2.7.13"
  }
 },
 "nbformat": 4,
 "nbformat_minor": 2
}
